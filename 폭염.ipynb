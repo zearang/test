{
 "cells": [
  {
   "cell_type": "code",
   "execution_count": 11,
   "id": "aed58b8c",
   "metadata": {},
   "outputs": [],
   "source": [
    "import pandas as pd\n",
    "import folium\n",
    "import qrcode\n",
    "\n",
    "# 파일 경로 설정\n",
    "filePath = r'지역별 폭염일수.xlsx'\n",
    "df_from_excel = pd.read_excel(filePath, engine='openpyxl', header=None)\n",
    "df_from_excel.columns = ['이름', '위도', '경도', '폭염일수']\n",
    "\n",
    "# 위도와 경도를 숫자로 변환 (변환 불가능한 값은 NaN 처리)\n",
    "df_from_excel['위도'] = pd.to_numeric(df_from_excel['위도'], errors='coerce')\n",
    "df_from_excel['경도'] = pd.to_numeric(df_from_excel['경도'], errors='coerce')\n",
    "\n",
    "# NaN 값을 가진 행은 제외\n",
    "df_from_excel = df_from_excel.dropna(subset=['위도', '경도'])\n",
    "\n",
    "# 지도 생성\n",
    "map = folium.Map(location=[37, 127], zoom_start=7)\n",
    "\n",
    "# 마커 추가\n",
    "for i in range(len(df_from_excel)):\n",
    "    # iloc을 사용하여 인덱스 번호로 접근\n",
    "    x, y, name = df_from_excel.iloc[i][['위도', '경도', '이름']]\n",
    "    if x != 0 and y != 0:  # 좌표가 유효한 경우\n",
    "        marker = folium.Marker(\n",
    "            location=[y, x],\n",
    "            popup=name,\n",
    "            icon=folium.Icon(color='blue')\n",
    "        )\n",
    "        marker.add_to(map)\n",
    "\n",
    "# HTML 파일로 저장\n",
    "html_filename = 'heartwave_map.html'\n",
    "map.save(html_filename)\n",
    "\n",
    "# QR 코드 생성\n",
    "qr = qrcode.QRCode(\n",
    "    version=1,\n",
    "    error_correction=qrcode.constants.ERROR_CORRECT_L,\n",
    "    box_size=10,\n",
    "    border=4,\n",
    ")\n",
    "url = f'file:///{html_filename}'  # 로컬 파일 경로\n",
    "qr.add_data(url)\n",
    "qr.make(fit=True)\n",
    "\n",
    "# QR 코드 이미지 저장\n",
    "qr_filename = 'heartwave_qr.png'\n",
    "qr_image = qr.make_image(fill='black', back_color='white')\n",
    "qr_image.save(qr_filename)\n",
    "\n",
    "# QR 코드 확인 (옵션)\n",
    "qr_image.show()\n"
   ]
  },
  {
   "cell_type": "code",
   "execution_count": null,
   "id": "4f83129c",
   "metadata": {},
   "outputs": [],
   "source": []
  }
 ],
 "metadata": {
  "kernelspec": {
   "display_name": "Python 3 (ipykernel)",
   "language": "python",
   "name": "python3"
  },
  "language_info": {
   "codemirror_mode": {
    "name": "ipython",
    "version": 3
   },
   "file_extension": ".py",
   "mimetype": "text/x-python",
   "name": "python",
   "nbconvert_exporter": "python",
   "pygments_lexer": "ipython3",
   "version": "3.9.16"
  }
 },
 "nbformat": 4,
 "nbformat_minor": 5
}
